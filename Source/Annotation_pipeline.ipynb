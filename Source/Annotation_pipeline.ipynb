{
 "cells": [
  {
   "cell_type": "markdown",
   "id": "6cd06df8",
   "metadata": {},
   "source": [
    "# Tweet Annotation using Circumplex Method"
   ]
  },
  {
   "cell_type": "markdown",
   "id": "63c82abd",
   "metadata": {},
   "source": [
    "In this Notebook, we annotate the Tweets with following Categories:\n",
    "Arousal:\n",
    "- High\n",
    "- Medium\n",
    "- Low\n",
    "Valence:\n",
    "- Positiv\n",
    "- Neutral\n",
    "- Negative\n",
    "\n",
    "Reference: https://social-media-lab.net/processing/classification.html"
   ]
  },
  {
   "cell_type": "code",
   "execution_count": 2,
   "id": "f8fe29f7",
   "metadata": {},
   "outputs": [
    {
     "name": "stdout",
     "output_type": "stream",
     "text": [
      "Requirement already satisfied: pandas in /Users/noah/Documents/github/Emotion-Detection/myenv/lib/python3.12/site-packages (2.2.3)\n",
      "Requirement already satisfied: numpy>=1.26.0 in /Users/noah/Documents/github/Emotion-Detection/myenv/lib/python3.12/site-packages (from pandas) (2.2.6)\n",
      "Requirement already satisfied: python-dateutil>=2.8.2 in /Users/noah/Documents/github/Emotion-Detection/myenv/lib/python3.12/site-packages (from pandas) (2.9.0.post0)\n",
      "Requirement already satisfied: pytz>=2020.1 in /Users/noah/Documents/github/Emotion-Detection/myenv/lib/python3.12/site-packages (from pandas) (2025.2)\n",
      "Requirement already satisfied: tzdata>=2022.7 in /Users/noah/Documents/github/Emotion-Detection/myenv/lib/python3.12/site-packages (from pandas) (2025.2)\n",
      "Requirement already satisfied: six>=1.5 in /Users/noah/Documents/github/Emotion-Detection/myenv/lib/python3.12/site-packages (from python-dateutil>=2.8.2->pandas) (1.17.0)\n",
      "\n",
      "\u001b[1m[\u001b[0m\u001b[34;49mnotice\u001b[0m\u001b[1;39;49m]\u001b[0m\u001b[39;49m A new release of pip is available: \u001b[0m\u001b[31;49m24.0\u001b[0m\u001b[39;49m -> \u001b[0m\u001b[32;49m25.1.1\u001b[0m\n",
      "\u001b[1m[\u001b[0m\u001b[34;49mnotice\u001b[0m\u001b[1;39;49m]\u001b[0m\u001b[39;49m To update, run: \u001b[0m\u001b[32;49mpip install --upgrade pip\u001b[0m\n",
      "\n",
      "\u001b[1m[\u001b[0m\u001b[34;49mnotice\u001b[0m\u001b[1;39;49m]\u001b[0m\u001b[39;49m A new release of pip is available: \u001b[0m\u001b[31;49m24.0\u001b[0m\u001b[39;49m -> \u001b[0m\u001b[32;49m25.1.1\u001b[0m\n",
      "\u001b[1m[\u001b[0m\u001b[34;49mnotice\u001b[0m\u001b[1;39;49m]\u001b[0m\u001b[39;49m To update, run: \u001b[0m\u001b[32;49mpip install --upgrade pip\u001b[0m\n"
     ]
    }
   ],
   "source": [
    "!pip install pandas\n",
    "!pip install -q openai backoff gpt-cost-estimator\n"
   ]
  },
  {
   "cell_type": "code",
   "execution_count": 3,
   "id": "a36165f0",
   "metadata": {},
   "outputs": [],
   "source": [
    "import pandas as pd\n",
    "import numpy as np\n",
    "from openai import OpenAI\n",
    "import backoff\n",
    "import re\n",
    "import ast\n",
    "from gpt_cost_estimator import CostEstimator"
   ]
  },
  {
   "cell_type": "code",
   "execution_count": null,
   "id": "0a69e740",
   "metadata": {},
   "outputs": [],
   "source": [
    "df_evaluation = pd.read_csv(\"../Dataset/label_annotation.csv\", delimiter=\";\") #TODO schauen ob richtige Links\n",
    "df_training = pd.read_csv(\"../Dataset/annotation_emotion_and_label_bert.csv\", delimiter=\",\") #TODO schauen ob richtige Links"
   ]
  }
 ],
 "metadata": {
  "kernelspec": {
   "display_name": "myenv",
   "language": "python",
   "name": "python3"
  },
  "language_info": {
   "codemirror_mode": {
    "name": "ipython",
    "version": 3
   },
   "file_extension": ".py",
   "mimetype": "text/x-python",
   "name": "python",
   "nbconvert_exporter": "python",
   "pygments_lexer": "ipython3",
   "version": "3.12.2"
  }
 },
 "nbformat": 4,
 "nbformat_minor": 5
}
